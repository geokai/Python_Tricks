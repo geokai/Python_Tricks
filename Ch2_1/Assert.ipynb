{
 "cells": [
  {
   "cell_type": "markdown",
   "metadata": {},
   "source": [
    "## Assert in Python"
   ]
  },
  {
   "cell_type": "markdown",
   "metadata": {},
   "source": [
    "- This notebook uses global python3 - do not use as a virtual environment!"
   ]
  },
  {
   "cell_type": "code",
   "execution_count": 1,
   "metadata": {},
   "outputs": [
    {
     "name": "stdout",
     "output_type": "stream",
     "text": [
      "/Library/Frameworks/Python.framework/Versions/3.6/bin/python3\r\n"
     ]
    }
   ],
   "source": [
    "!which python3"
   ]
  },
  {
   "cell_type": "markdown",
   "metadata": {},
   "source": [
    "---"
   ]
  },
  {
   "cell_type": "markdown",
   "metadata": {},
   "source": [
    "Python's Assert Syntax"
   ]
  },
  {
   "cell_type": "markdown",
   "metadata": {},
   "source": [
    "<code>assert_stmt ::= \"assert\" expression1 [\",\" expression2]</code>"
   ]
  },
  {
   "cell_type": "markdown",
   "metadata": {},
   "source": [
    "The python interpreter transforms each assert statement into roughly the following sequence of\n",
    "statements:"
   ]
  },
  {
   "cell_type": "markdown",
   "metadata": {},
   "source": [
    "<code>if  \\__debug\\__:\n",
    "        __if not__ expression1:\n",
    "            __raise__ AssertionError(expression2)\n",
    "</code>"
   ]
  },
  {
   "cell_type": "markdown",
   "metadata": {},
   "source": [
    "#### Pitfalls with using asserts in python"
   ]
  },
  {
   "cell_type": "markdown",
   "metadata": {},
   "source": [
    "- assertions in python can be globally disabled with the <code>-O</code> & \n",
    "<code>-OO</code> commandline switches, as well as the PYTHONOPTIMIZE env variable in CPython"
   ]
  },
  {
   "cell_type": "markdown",
   "metadata": {},
   "source": [
    "This makes it extremely dangerous to use assert statements as an easy way to validate data.\n",
    "Disabled assert statements become **null-op**, like they never existed."
   ]
  },
  {
   "cell_type": "markdown",
   "metadata": {},
   "source": [
    "- passing a non-empty tuple as the first argument to an assert, always evaluates to <code>True</code>"
   ]
  },
  {
   "cell_type": "markdown",
   "metadata": {},
   "source": [
    "<code>assert(1 == 2, 'this should fail')</code>"
   ]
  },
  {
   "cell_type": "markdown",
   "metadata": {},
   "source": [
    "- Non-empty tuples are _truthy_."
   ]
  },
  {
   "cell_type": "markdown",
   "metadata": {},
   "source": [
    "Despite the possible pitfalls, __asserts__ are a powerful debugging tool and 'self-check' aid."
   ]
  }
 ],
 "metadata": {
  "kernelspec": {
   "display_name": "Python 3",
   "language": "python",
   "name": "python3"
  },
  "language_info": {
   "codemirror_mode": {
    "name": "ipython",
    "version": 3
   },
   "file_extension": ".py",
   "mimetype": "text/x-python",
   "name": "python",
   "nbconvert_exporter": "python",
   "pygments_lexer": "ipython3",
   "version": "3.6.4"
  }
 },
 "nbformat": 4,
 "nbformat_minor": 2
}
